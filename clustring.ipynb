{
  "nbformat": 4,
  "nbformat_minor": 0,
  "metadata": {
    "colab": {
      "provenance": [],
      "authorship_tag": "ABX9TyMH+vWgePTr2CN88104fFFP",
      "include_colab_link": true
    },
    "kernelspec": {
      "name": "python3",
      "display_name": "Python 3"
    },
    "language_info": {
      "name": "python"
    }
  },
  "cells": [
    {
      "cell_type": "markdown",
      "metadata": {
        "id": "view-in-github",
        "colab_type": "text"
      },
      "source": [
        "<a href=\"https://colab.research.google.com/github/fufi-tuti/dataMiningprj/blob/main/clustring.ipynb\" target=\"_parent\"><img src=\"https://colab.research.google.com/assets/colab-badge.svg\" alt=\"Open In Colab\"/></a>"
      ]
    },
    {
      "cell_type": "code",
      "execution_count": null,
      "metadata": {
        "id": "ovbeCHlcQmaJ"
      },
      "outputs": [],
      "source": [
        "# Part 1 - By Person 3 (K-Means Analysis and Evaluation)\n",
        "import numpy as np\n",
        "import pandas as pd\n",
        "import matplotlib.pyplot as plt\n",
        "from sklearn.cluster import KMeans\n",
        "from sklearn.metrics import silhouette_score\n",
        "from sklearn.preprocessing import StandardScaler\n"
      ]
    },
    {
      "cell_type": "code",
      "source": [
        "# 1. Load the dataset\n",
        "df = pd.read_csv(\"final_selected_data.csv\")\n",
        "\n",
        "# 2. Standardize the features\n",
        "scaler = StandardScaler()\n",
        "scaled_data = scaler.fit_transform(df)\n",
        "\n",
        "# 3. Try different values for K\n",
        "k_values = range(2, 7)  # من 2 إلى 6\n",
        "wcss = []  # Total Within-Cluster Sum of Squares\n",
        "silhouette_scores = []\n",
        "\n",
        "# 4. Apply K-Means for each K\n",
        "for k in k_values:\n",
        "    kmeans = KMeans(n_clusters=k, random_state=42)\n",
        "    kmeans.fit(scaled_data)\n",
        "# 5. Save evaluation metrics\n",
        "    wcss.append(kmeans.inertia_)  # Elbow Method\n",
        "    silhouette_scores.append(silhouette_score(scaled_data, kmeans.labels_))\n",
        "\n",
        "# 6. Print results for Person 4 to use\n",
        "print(\"K-values:\", list(k_values))\n",
        "print(\"WCSS values:\", wcss)\n",
        "print(\"Silhouette Scores:\", silhouette_scores)"
      ],
      "metadata": {
        "colab": {
          "base_uri": "https://localhost:8080/"
        },
        "id": "qbNihGVORLgO",
        "outputId": "38c9e779-0163-473f-be63-e5000c0c54d8"
      },
      "execution_count": null,
      "outputs": [
        {
          "output_type": "stream",
          "name": "stdout",
          "text": [
            "K-values: [2, 3, 4, 5, 6]\n",
            "WCSS values: [43253.64113728645, 32648.540186466904, 20419.977755863652, 13998.439162240602, 8081.055899107501]\n",
            "Silhouette Scores: [np.float64(0.489618013385644), np.float64(0.47351355306207377), np.float64(0.5971719597245527), np.float64(0.6542000975513658), np.float64(0.7298067394818004)]\n"
          ]
        }
      ]
    }
  ]
}