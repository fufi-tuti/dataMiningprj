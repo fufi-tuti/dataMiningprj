{
 "cells": [
  {
   "cell_type": "code",
   "execution_count": 7,
   "id": "9642644d-f41d-4557-9224-102780c50dd4",
   "metadata": {},
   "outputs": [
    {
     "name": "stdout",
     "output_type": "stream",
     "text": [
      "#The primary goal of this dataset is to predict and analyze depression levels among students, specifically to identify, understand, and differentiate\n",
      "between varying levels of depression based on factors such as demographics, academic performance, lifestyle habits, and mental health history.\n",
      "\n",
      "The dataset is available on Kaggle at the following link:\n",
      "https://www.kaggle.com/datasets/hopesb/student-depression-dataset/data\n",
      "\n",
      "#Dataset Information:\n",
      "Number of attributes: 18\n",
      "Number of samples: 27901\n",
      "\n",
      "#Types of attributes:\n",
      "id                                         int64\n",
      "Gender                                    object\n",
      "Age                                        int64\n",
      "City                                      object\n",
      "Profession                                object\n",
      "Academic Pressure                          int64\n",
      "Work Pressure                              int64\n",
      "CGPA                                     float64\n",
      "Study Satisfaction                         int64\n",
      "Job Satisfaction                           int64\n",
      "Sleep Duration                            object\n",
      "Dietary Habits                            object\n",
      "Degree                                    object\n",
      "Have you ever had suicidal thoughts ?     object\n",
      "Work/Study Hours                           int64\n",
      "Financial Stress                         float64\n",
      "Family History of Mental Illness          object\n",
      "Depression                                 int64\n",
      "dtype: object\n",
      "\n",
      "#dataset contains one class:\n",
      "Depression\n",
      "1    16336\n",
      "0    11565\n",
      "Name: count, dtype: int64\n"
     ]
    }
   ],
   "source": [
    "import pandas as pd\n",
    "df = pd.read_excel(\"Student_Depression_Dataset.xlsx\")\n",
    "print(\"#The primary goal of this dataset is to predict and analyze depression levels among students, specifically to identify, understand, and differentiate\\nbetween varying levels of depression based on factors such as demographics, academic performance, lifestyle habits, and mental health history.\")\n",
    "print(\"\\nThe dataset is available on Kaggle at the following link:\\nhttps://www.kaggle.com/datasets/hopesb/student-depression-dataset/data\\n\")\n",
    "print(\"#Dataset Information:\")\n",
    "print(f\"Number of attributes: {df.shape[1]}\")\n",
    "print(f\"Number of samples: {df.shape[0]}\") \n",
    "print(\"\\n#Types of attributes:\")\n",
    "print(df.dtypes)\n",
    "print(\"\\n#dataset contains one class:\")\n",
    "print(df['Depression'].value_counts())"
   ]
  },
  {
   "cell_type": "code",
   "execution_count": null,
   "id": "62769c48-f50f-4403-8cd4-76c17e60d77c",
   "metadata": {},
   "outputs": [],
   "source": []
  }
 ],
 "metadata": {
  "kernelspec": {
   "display_name": "Python 3 (ipykernel)",
   "language": "python",
   "name": "python3"
  },
  "language_info": {
   "codemirror_mode": {
    "name": "ipython",
    "version": 3
   },
   "file_extension": ".py",
   "mimetype": "text/x-python",
   "name": "python",
   "nbconvert_exporter": "python",
   "pygments_lexer": "ipython3",
   "version": "3.13.1"
  }
 },
 "nbformat": 4,
 "nbformat_minor": 5
}
