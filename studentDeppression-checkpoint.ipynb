{
 "cells": [
  {
   "cell_type": "raw",
   "id": "743f15bb-3381-4cbc-948d-e995fc9b2082",
   "metadata": {},
   "source": [
    "import pandas as pd"
   ]
  },
  {
   "cell_type": "code",
   "execution_count": 28,
   "id": "1d0ebb48-ca05-4a29-a07f-835636b7347c",
   "metadata": {},
   "outputs": [],
   "source": [
    "df = pd.read_excel(\"Student_Depression_Dataset.xlsx\")"
   ]
  },
  {
   "cell_type": "code",
   "execution_count": 40,
   "id": "8aeecb7a-018c-4559-bb8e-f5a7234041b1",
   "metadata": {},
   "outputs": [
    {
     "name": "stdout",
     "output_type": "stream",
     "text": [
      "The primary goal of this dataset is to predict and analyze depression levels among students, specifically to identify, understand, and differentiate between varying levels of depression based on factors such as demographics, academic performance, lifestyle habits, and mental health history.\n"
     ]
    }
   ],
   "source": [
    "print(\"The primary goal of this dataset is to predict and analyze depression levels among students, specifically to identify, understand, and differentiate between varying levels of depression based on factors such as demographics, academic performance, lifestyle habits, and mental health history.\")"
   ]
  },
  {
   "cell_type": "code",
   "execution_count": 35,
   "id": "08dcb68a-76b6-4e01-996b-bdd444f0d89e",
   "metadata": {},
   "outputs": [
    {
     "name": "stdout",
     "output_type": "stream",
     "text": [
      "The dataset is available on Kaggle at the following link:\n",
      "https://www.kaggle.com/datasets/hopesb/student-depression-dataset/data\n"
     ]
    }
   ],
   "source": [
    "print(\"The dataset is available on Kaggle at the following link:\\nhttps://www.kaggle.com/datasets/hopesb/student-depression-dataset/data\")"
   ]
  },
  {
   "cell_type": "code",
   "execution_count": 29,
   "id": "8b612c82-80c7-4375-ad7c-2dc8ebc83b21",
   "metadata": {},
   "outputs": [
    {
     "name": "stdout",
     "output_type": "stream",
     "text": [
      "Dataset Information:\n",
      "\n",
      "Number of attributes: 18\n",
      "Number of samples: 27901\n"
     ]
    }
   ],
   "source": [
    "print(\"Dataset Information:\\n\")\n",
    "print(f\"Number of attributes: {df.shape[1]}\")  # Number of attributes (columns)\n",
    "print(f\"Number of samples: {df.shape[0]}\") "
   ]
  },
  {
   "cell_type": "code",
   "execution_count": 30,
   "id": "a92d2db2-a061-41b1-a4e1-64a2adda1126",
   "metadata": {},
   "outputs": [
    {
     "name": "stdout",
     "output_type": "stream",
     "text": [
      "\n",
      "Types of attributes:\n",
      "id                                         int64\n",
      "Gender                                    object\n",
      "Age                                        int64\n",
      "City                                      object\n",
      "Profession                                object\n",
      "Academic Pressure                          int64\n",
      "Work Pressure                              int64\n",
      "CGPA                                     float64\n",
      "Study Satisfaction                         int64\n",
      "Job Satisfaction                           int64\n",
      "Sleep Duration                            object\n",
      "Dietary Habits                            object\n",
      "Degree                                    object\n",
      "Have you ever had suicidal thoughts ?     object\n",
      "Work/Study Hours                           int64\n",
      "Financial Stress                         float64\n",
      "Family History of Mental Illness          object\n",
      "Depression                                 int64\n",
      "dtype: object\n"
     ]
    }
   ],
   "source": [
    "print(\"\\nTypes of attributes:\")\n",
    "print(df.dtypes)"
   ]
  },
  {
   "cell_type": "code",
   "execution_count": 37,
   "id": "0cf8574f-6933-4d8b-89c0-fcb803561c3e",
   "metadata": {},
   "outputs": [
    {
     "name": "stdout",
     "output_type": "stream",
     "text": [
      "\n",
      "dataset contains one class:\n"
     ]
    }
   ],
   "source": [
    "print(\"\\ndataset contains one class:\")"
   ]
  },
  {
   "cell_type": "code",
   "execution_count": 36,
   "id": "b54b2f82-bddc-46ab-8542-ab5ba26d28d6",
   "metadata": {},
   "outputs": [
    {
     "name": "stdout",
     "output_type": "stream",
     "text": [
      "Depression\n",
      "1    16336\n",
      "0    11565\n",
      "Name: count, dtype: int64\n"
     ]
    }
   ],
   "source": [
    "print(df['Depression'].value_counts())"
   ]
  },
  {
   "cell_type": "code",
   "execution_count": null,
   "id": "75d5f72f-0136-494c-9008-811cbab48709",
   "metadata": {},
   "outputs": [],
   "source": []
  }
 ],
 "metadata": {
  "kernelspec": {
   "display_name": "Python 3 (ipykernel)",
   "language": "python",
   "name": "python3"
  },
  "language_info": {
   "codemirror_mode": {
    "name": "ipython",
    "version": 3
   },
   "file_extension": ".py",
   "mimetype": "text/x-python",
   "name": "python",
   "nbconvert_exporter": "python",
   "pygments_lexer": "ipython3",
   "version": "3.13.1"
  }
 },
 "nbformat": 4,
 "nbformat_minor": 5
}
