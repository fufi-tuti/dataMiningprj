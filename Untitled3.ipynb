{
  "nbformat": 4,
  "nbformat_minor": 0,
  "metadata": {
    "colab": {
      "provenance": []
    },
    "kernelspec": {
      "name": "python3",
      "display_name": "Python 3"
    },
    "language_info": {
      "name": "python"
    }
  },
  "cells": [
    {
      "cell_type": "code",
      "execution_count": null,
      "metadata": {
        "colab": {
          "base_uri": "https://localhost:8080/"
        },
        "id": "v-KA6Wvp7vOf",
        "outputId": "a1da936d-b202-4882-dce2-3609c63f8a96"
      },
      "outputs": [
        {
          "output_type": "stream",
          "name": "stdout",
          "text": [
            "   id  Gender  Age           City Profession  Academic Pressure  \\\n",
            "0   2    Male   33  Visakhapatnam    Student                  5   \n",
            "1   8  Female   24      Bangalore    Student                  2   \n",
            "2  26    Male   31       Srinagar    Student                  3   \n",
            "3  30  Female   28       Varanasi    Student                  3   \n",
            "4  32  Female   25         Jaipur    Student                  4   \n",
            "\n",
            "   Work Pressure  CGPA  Study Satisfaction  Job Satisfaction  \\\n",
            "0              0  8.97                   2                 0   \n",
            "1              0  5.90                   5                 0   \n",
            "2              0  7.03                   5                 0   \n",
            "3              0  5.59                   2                 0   \n",
            "4              0  8.13                   3                 0   \n",
            "\n",
            "      Sleep Duration Dietary Habits   Degree  \\\n",
            "0          5-6 hours        Healthy  B.Pharm   \n",
            "1          5-6 hours       Moderate      BSc   \n",
            "2  Less than 5 hours        Healthy       BA   \n",
            "3          7-8 hours       Moderate      BCA   \n",
            "4          5-6 hours       Moderate   M.Tech   \n",
            "\n",
            "  Have you ever had suicidal thoughts ?  Work/Study Hours  Financial Stress  \\\n",
            "0                                   Yes                 3               1.0   \n",
            "1                                    No                 3               2.0   \n",
            "2                                    No                 9               1.0   \n",
            "3                                   Yes                 4               5.0   \n",
            "4                                   Yes                 1               1.0   \n",
            "\n",
            "  Family History of Mental Illness  Depression  \n",
            "0                               No           1  \n",
            "1                              Yes           0  \n",
            "2                              Yes           0  \n",
            "3                              Yes           1  \n",
            "4                               No           0  \n"
          ]
        }
      ],
      "source": [
        "import pandas as pd\n",
        "\n",
        "# ✅ Corrected File Loading with Delimiter\n",
        "file_url = \"https://raw.githubusercontent.com/fufi-tuti/dataMiningprj/main/Dataset/Student_Depression_Dataset.csv\"\n",
        "\n",
        "# Read the dataset using the correct delimiter\n",
        "df = pd.read_csv(file_url, delimiter=\";\")\n",
        "\n",
        "# ✅ Display first few rows to check\n",
        "print(df.head())\n",
        "\n"
      ]
    },
    {
      "cell_type": "code",
      "source": [
        "import pandas as pd\n",
        "from sklearn.preprocessing import MinMaxScaler\n",
        "\n",
        "# ✅ Step 1: Clean Column Names\n",
        "df.columns = df.columns.str.strip()  # Remove spaces around column names\n",
        "\n",
        "# ✅ Step 2: Define Numerical Features\n",
        "numerical_features = ['Age', 'Academic Pressure', 'Work Pressure', 'CGPA',\n",
        "                      'Study Satisfaction', 'Job Satisfaction', 'Work/Study Hours']\n",
        "\n",
        "# ✅ Step 3: Apply Normalization\n",
        "scaler = MinMaxScaler()\n",
        "df[numerical_features] = scaler.fit_transform(df[numerical_features])\n",
        "\n",
        "# ✅ Step 4: Display the Transformed Data\n",
        "print(\"✅ Normalization Complete! Here are the first 5 rows:\")\n",
        "print(df.head())\n"
      ],
      "metadata": {
        "colab": {
          "base_uri": "https://localhost:8080/"
        },
        "id": "MGuXau588s3l",
        "outputId": "f2936deb-9993-4293-a2e9-fd5219a6c6c6"
      },
      "execution_count": null,
      "outputs": [
        {
          "output_type": "stream",
          "name": "stdout",
          "text": [
            "✅ Normalization Complete! Here are the first 5 rows:\n",
            "   id  Gender       Age           City Profession  Academic Pressure  \\\n",
            "0   2    Male  0.365854  Visakhapatnam    Student                1.0   \n",
            "1   8  Female  0.146341      Bangalore    Student                0.4   \n",
            "2  26    Male  0.317073       Srinagar    Student                0.6   \n",
            "3  30  Female  0.243902       Varanasi    Student                0.6   \n",
            "4  32  Female  0.170732         Jaipur    Student                0.8   \n",
            "\n",
            "   Work Pressure   CGPA  Study Satisfaction  Job Satisfaction  \\\n",
            "0            0.0  0.897                 0.4               0.0   \n",
            "1            0.0  0.590                 1.0               0.0   \n",
            "2            0.0  0.703                 1.0               0.0   \n",
            "3            0.0  0.559                 0.4               0.0   \n",
            "4            0.0  0.813                 0.6               0.0   \n",
            "\n",
            "      Sleep Duration Dietary Habits   Degree  \\\n",
            "0          5-6 hours        Healthy  B.Pharm   \n",
            "1          5-6 hours       Moderate      BSc   \n",
            "2  Less than 5 hours        Healthy       BA   \n",
            "3          7-8 hours       Moderate      BCA   \n",
            "4          5-6 hours       Moderate   M.Tech   \n",
            "\n",
            "  Have you ever had suicidal thoughts ?  Work/Study Hours  Financial Stress  \\\n",
            "0                                   Yes          0.250000               1.0   \n",
            "1                                    No          0.250000               2.0   \n",
            "2                                    No          0.750000               1.0   \n",
            "3                                   Yes          0.333333               5.0   \n",
            "4                                   Yes          0.083333               1.0   \n",
            "\n",
            "  Family History of Mental Illness  Depression  \n",
            "0                               No           1  \n",
            "1                              Yes           0  \n",
            "2                              Yes           0  \n",
            "3                              Yes           1  \n",
            "4                               No           0  \n"
          ]
        }
      ]
    },
    {
      "cell_type": "code",
      "source": [
        "df.columns = df.columns.str.strip()  # Remove spaces before and after column names\n",
        "print(df.columns)  # Verify that spaces are removed\n"
      ],
      "metadata": {
        "colab": {
          "base_uri": "https://localhost:8080/"
        },
        "id": "jbbi4EoJ-CVh",
        "outputId": "9fce4faa-111f-4b89-f861-8a7cbe6256b3"
      },
      "execution_count": null,
      "outputs": [
        {
          "output_type": "stream",
          "name": "stdout",
          "text": [
            "Index(['id', 'Gender', 'Age', 'City', 'Profession', 'Academic Pressure',\n",
            "       'Work Pressure', 'CGPA', 'Study Satisfaction', 'Job Satisfaction',\n",
            "       'Sleep Duration', 'Dietary Habits', 'Degree',\n",
            "       'Have you ever had suicidal thoughts ?', 'Work/Study Hours',\n",
            "       'Financial Stress', 'Family History of Mental Illness', 'Depression'],\n",
            "      dtype='object')\n"
          ]
        }
      ]
    },
    {
      "cell_type": "code",
      "source": [
        "print(df.columns.tolist())  # Show all column names in a list format\n"
      ],
      "metadata": {
        "colab": {
          "base_uri": "https://localhost:8080/"
        },
        "id": "w1L26x4e-uMb",
        "outputId": "45d1c6f2-dfbe-49ca-9fc5-26111d6a2404"
      },
      "execution_count": null,
      "outputs": [
        {
          "output_type": "stream",
          "name": "stdout",
          "text": [
            "['id', 'Gender', 'Age', 'City', 'Profession', 'Academic Pressure', 'Work Pressure', 'CGPA', 'Study Satisfaction', 'Job Satisfaction', 'Sleep Duration', 'Dietary Habits', 'Degree', 'Have you ever had suicidal thoughts ?', 'Work/Study Hours', 'Financial Stress', 'Family History of Mental Illness', 'Depression']\n"
          ]
        }
      ]
    },
    {
      "cell_type": "code",
      "source": [
        "df.columns = df.columns.str.strip()  # Remove spaces\n",
        "df.columns = df.columns.str.replace(\"  \", \" \")  # Fix double spaces\n",
        "print(df.columns.tolist())  # Verify again\n"
      ],
      "metadata": {
        "colab": {
          "base_uri": "https://localhost:8080/"
        },
        "id": "dvFEQBW4-169",
        "outputId": "1821fe1f-f31b-45da-ff3e-5ea8856ccdd3"
      },
      "execution_count": null,
      "outputs": [
        {
          "output_type": "stream",
          "name": "stdout",
          "text": [
            "['id', 'Gender', 'Age', 'City', 'Profession', 'Academic Pressure', 'Work Pressure', 'CGPA', 'Study Satisfaction', 'Job Satisfaction', 'Sleep Duration', 'Dietary Habits', 'Degree', 'Have you ever had suicidal thoughts ?', 'Work/Study Hours', 'Financial Stress', 'Family History of Mental Illness', 'Depression']\n"
          ]
        }
      ]
    },
    {
      "cell_type": "code",
      "source": [
        "from sklearn.preprocessing import LabelEncoder, OneHotEncoder\n",
        "import pandas as pd\n",
        "\n",
        "# ✅ 1. Label Encoding for Binary Features\n",
        "binary_features = ['Gender', 'Have you ever had suicidal thoughts ?', 'Financial Stress',\n",
        "                   'Family History of Mental Illness', 'Depression']\n",
        "\n",
        "\n",
        "label_encoder = LabelEncoder()\n",
        "for feature in binary_features:\n",
        "    df[feature] = label_encoder.fit_transform(df[feature])\n",
        "\n",
        "# ✅ 2. Ordinal Encoding for Ordered Categories\n",
        "sleep_duration_mapping = {'Less than 5 hours': 0, '5-6 hours': 1, '7-8 hours': 2, 'More than 8 hours': 3}\n",
        "degree_mapping = {'Class 12': 0, 'B.Sc': 1, 'M.Tech': 2, 'Ph.D': 3}\n",
        "\n",
        "df['Sleep Duration'] = df['Sleep Duration'].map(sleep_duration_mapping)\n",
        "df['Degree'] = df['Degree'].map(degree_mapping)\n",
        "\n",
        "# ✅ 3. One-Hot Encoding for Cities and Dietary Habits\n",
        "df = pd.get_dummies(df, columns=['City', 'Dietary Habits'])\n",
        "\n",
        "# ✅ Display Transformed Dataset\n",
        "print(\"✅ Categorical Encoding Complete! Here are the first 5 rows:\")\n",
        "print(df.head())\n"
      ],
      "metadata": {
        "colab": {
          "base_uri": "https://localhost:8080/"
        },
        "id": "o1OELWlp_WLg",
        "outputId": "131df808-f34a-4472-9e64-cf349dfce73f"
      },
      "execution_count": null,
      "outputs": [
        {
          "output_type": "stream",
          "name": "stdout",
          "text": [
            "✅ Categorical Encoding Complete! Here are the first 5 rows:\n",
            "   id  Gender       Age Profession  Academic Pressure  Work Pressure   CGPA  \\\n",
            "0   2       1  0.365854    Student                1.0            0.0  0.897   \n",
            "1   8       0  0.146341    Student                0.4            0.0  0.590   \n",
            "2  26       1  0.317073    Student                0.6            0.0  0.703   \n",
            "3  30       0  0.243902    Student                0.6            0.0  0.559   \n",
            "4  32       0  0.170732    Student                0.8            0.0  0.813   \n",
            "\n",
            "   Study Satisfaction  Job Satisfaction  Sleep Duration  ...  City_Thane  \\\n",
            "0                 0.4               0.0             1.0  ...       False   \n",
            "1                 1.0               0.0             1.0  ...       False   \n",
            "2                 1.0               0.0             0.0  ...       False   \n",
            "3                 0.4               0.0             2.0  ...       False   \n",
            "4                 0.6               0.0             1.0  ...       False   \n",
            "\n",
            "   City_Vaanya  City_Vadodara  City_Varanasi  City_Vasai-Virar  \\\n",
            "0        False          False          False             False   \n",
            "1        False          False          False             False   \n",
            "2        False          False          False             False   \n",
            "3        False          False           True             False   \n",
            "4        False          False          False             False   \n",
            "\n",
            "   City_Visakhapatnam  Dietary Habits_Healthy  Dietary Habits_Moderate  \\\n",
            "0                True                    True                    False   \n",
            "1               False                   False                     True   \n",
            "2               False                    True                    False   \n",
            "3               False                   False                     True   \n",
            "4               False                   False                     True   \n",
            "\n",
            "   Dietary Habits_Others  Dietary Habits_Unhealthy  \n",
            "0                  False                     False  \n",
            "1                  False                     False  \n",
            "2                  False                     False  \n",
            "3                  False                     False  \n",
            "4                  False                     False  \n",
            "\n",
            "[5 rows x 72 columns]\n"
          ]
        }
      ]
    },
    {
      "cell_type": "code",
      "source": [
        "import pandas as pd\n",
        "import numpy as np\n",
        "\n",
        "# Select only numerical columns\n",
        "numerical_df = df.select_dtypes(include=['number'])\n",
        "\n",
        "# Check for skewness\n",
        "skew_values = numerical_df.skew()\n",
        "\n",
        "# Show skewness values\n",
        "print(\"Skewness of Numerical Columns:\")\n",
        "print(skew_values)\n",
        "\n",
        "# Optional: Check if transformation might help\n",
        "print(\"\\nRecommended for Discretization (Skew > 1 or Skew < -1):\")\n",
        "print(skew_values[abs(skew_values) > 1])\n"
      ],
      "metadata": {
        "colab": {
          "base_uri": "https://localhost:8080/"
        },
        "id": "CSgZzZ0LEz1e",
        "outputId": "1c1e9edf-eba6-44cb-95cd-811b73557b75"
      },
      "execution_count": null,
      "outputs": [
        {
          "output_type": "stream",
          "name": "stdout",
          "text": [
            "Skewness of Numerical Columns:\n",
            "id                                        -0.005380\n",
            "Gender                                    -0.230407\n",
            "Age                                        0.132239\n",
            "Academic Pressure                         -0.135165\n",
            "Work Pressure                            108.594361\n",
            "CGPA                                      -0.113063\n",
            "Study Satisfaction                         0.010423\n",
            "Job Satisfaction                          74.105663\n",
            "Sleep Duration                             0.081650\n",
            "Degree                                     2.029520\n",
            "Have you ever had suicidal thoughts ?     -0.551059\n",
            "Work/Study Hours                          -0.454769\n",
            "Financial Stress                          -0.130023\n",
            "Family History of Mental Illness           0.064192\n",
            "Depression                                -0.347126\n",
            "dtype: float64\n",
            "\n",
            "Recommended for Discretization (Skew > 1 or Skew < -1):\n",
            "Work Pressure       108.594361\n",
            "Job Satisfaction     74.105663\n",
            "Degree                2.029520\n",
            "dtype: float64\n"
          ]
        }
      ]
    },
    {
      "cell_type": "code",
      "source": [
        "import pandas as pd\n",
        "import numpy as np\n",
        "\n",
        "# Handle cases where all values are the same by checking unique values\n",
        "if df['Work Pressure'].nunique() > 1:\n",
        "    df['Work Pressure'] = pd.cut(df['Work Pressure'], bins=4, labels=[1, 2, 3, 4], duplicates='drop')\n",
        "else:\n",
        "    print(\"⚠️ Skipping 'Work Pressure' discretization as all values are the same.\")\n",
        "\n",
        "if df['Job Satisfaction'].nunique() > 1:\n",
        "    df['Job Satisfaction'] = pd.cut(df['Job Satisfaction'], bins=4, labels=[1, 2, 3, 4], duplicates='drop')\n",
        "else:\n",
        "    print(\"⚠️ Skipping 'Job Satisfaction' discretization as all values are the same.\")\n",
        "\n",
        "# Manual binning for 'Degree' since it's ordinal\n",
        "df['Degree'] = pd.cut(df['Degree'], bins=[-1, 0.5, 1.5, 2.5, 3.5], labels=[0, 1, 2, 3])\n",
        "\n",
        "# **Fix NaN Handling for 'Degree'**\n",
        "degree_mode = df['Degree'].mode()[0]  # Get the most common category\n",
        "\n",
        "# Ensure mode is not already in categories before adding\n",
        "if degree_mode not in df['Degree'].cat.categories:\n",
        "    df['Degree'] = df['Degree'].cat.add_categories([degree_mode])\n",
        "\n",
        "# Fill NaN values with the most common category\n",
        "df['Degree'] = df['Degree'].fillna(degree_mode)\n",
        "\n",
        "# Verify results\n",
        "print(\"✅ Discretization Completed Successfully! Preview:\")\n",
        "print(df[['Work Pressure', 'Job Satisfaction', 'Degree']].head())\n"
      ],
      "metadata": {
        "colab": {
          "base_uri": "https://localhost:8080/"
        },
        "id": "IZ3rob-JFNjg",
        "outputId": "53392963-a84a-44f3-b9cc-871b85d2b272"
      },
      "execution_count": null,
      "outputs": [
        {
          "output_type": "stream",
          "name": "stdout",
          "text": [
            "✅ Discretization Completed Successfully! Preview:\n",
            "  Work Pressure Job Satisfaction Degree\n",
            "0             1                1      0\n",
            "1             1                1      0\n",
            "2             1                1      0\n",
            "3             1                1      0\n",
            "4             1                1      2\n"
          ]
        }
      ]
    },
    {
      "cell_type": "code",
      "source": [],
      "metadata": {
        "id": "9qrwVBDzHUyR"
      },
      "execution_count": null,
      "outputs": []
    },
    {
      "cell_type": "code",
      "source": [
        "import pandas as pd\n",
        "from scipy import stats\n",
        "\n",
        "# Convert categorical 'Degree' to numeric\n",
        "df['Degree'] = pd.to_numeric(df['Degree'], errors='coerce')\n",
        "\n",
        "# Convert 'Work Pressure' and 'Job Satisfaction' to numeric as well (if they are not already)\n",
        "df['Work Pressure'] = pd.to_numeric(df['Work Pressure'], errors='coerce')\n",
        "df['Job Satisfaction'] = pd.to_numeric(df['Job Satisfaction'], errors='coerce')\n",
        "\n",
        "# Drop any remaining NaN values after conversion\n",
        "df = df.dropna(subset=['Work Pressure', 'Job Satisfaction', 'Degree'])\n",
        "\n",
        "# Define a threshold for outliers (z-score > 3 or < -3)\n",
        "z_scores = stats.zscore(df[['Work Pressure', 'Job Satisfaction', 'Degree']])\n",
        "\n",
        "# Remove rows where any of the selected columns have a z-score outside the range (-3, 3)\n",
        "df_cleaned = df[(abs(z_scores) < 3).all(axis=1)]\n",
        "\n",
        "# Print the number of removed noisy data points\n",
        "print(f\"✅ Removed {len(df) - len(df_cleaned)} noisy data points.\")\n",
        "\n",
        "# Update the dataset\n",
        "df = df_cleaned\n",
        "\n",
        "# Verify results\n",
        "print(\"✅ Cleaned Data Preview:\")\n",
        "print(df[['Work Pressure', 'Job Satisfaction', 'Degree']].head())\n"
      ],
      "metadata": {
        "colab": {
          "base_uri": "https://localhost:8080/"
        },
        "id": "CSwAOwcvHU6E",
        "outputId": "0235ddf8-9d89-4814-e56a-1416f8c9afed"
      },
      "execution_count": null,
      "outputs": [
        {
          "output_type": "stream",
          "name": "stdout",
          "text": [
            "✅ Removed 1029 noisy data points.\n",
            "✅ Cleaned Data Preview:\n",
            "   Work Pressure  Job Satisfaction  Degree\n",
            "0              1                 1     0.0\n",
            "1              1                 1     0.0\n",
            "2              1                 1     0.0\n",
            "3              1                 1     0.0\n",
            "5              1                 1     0.0\n"
          ]
        }
      ]
    },
    {
      "cell_type": "code",
      "source": [
        "df.to_csv(\"Processed_Student_Depression_Dataset.csv\", index=False)\n",
        "print(\"✅ Processed dataset saved successfully!\")\n"
      ],
      "metadata": {
        "colab": {
          "base_uri": "https://localhost:8080/"
        },
        "id": "Yb39RLrcAML2",
        "outputId": "dab8a9d6-2a97-436f-d235-dceda9b87888"
      },
      "execution_count": null,
      "outputs": [
        {
          "output_type": "stream",
          "name": "stdout",
          "text": [
            "✅ Processed dataset saved successfully!\n"
          ]
        }
      ]
    }
  ]
}