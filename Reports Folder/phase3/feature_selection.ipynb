{
  "nbformat": 4,
  "nbformat_minor": 0,
  "metadata": {
    "colab": {
      "provenance": [],
      "authorship_tag": "ABX9TyMgnhU5GN9kaKExDRYNnduO",
      "include_colab_link": true
    },
    "kernelspec": {
      "name": "python3",
      "display_name": "Python 3"
    },
    "language_info": {
      "name": "python"
    }
  },
  "cells": [
    {
      "cell_type": "markdown",
      "metadata": {
        "id": "view-in-github",
        "colab_type": "text"
      },
      "source": [
        "<a href=\"https://colab.research.google.com/github/fufi-tuti/dataMiningprj/blob/main/feature_selection.ipynb\" target=\"_parent\"><img src=\"https://colab.research.google.com/assets/colab-badge.svg\" alt=\"Open In Colab\"/></a>"
      ]
    },
    {
      "cell_type": "code",
      "source": [
        "import pandas as pd\n",
        "import numpy as np\n",
        "from sklearn.feature_selection import VarianceThreshold, SelectFromModel\n",
        "from sklearn.linear_model import Lasso\n",
        "from sklearn.impute import SimpleImputer\n",
        "import matplotlib.pyplot as plt\n",
        "\n",
        "# تحميل البيانات\n",
        "file_path = \"/content/Processed_Student_Depression_Dataset.xlsx\"\n",
        "df = pd.read_excel(file_path)"
      ],
      "metadata": {
        "id": "M2ORCHpQ-3lU"
      },
      "execution_count": 3,
      "outputs": []
    },
    {
      "cell_type": "code",
      "source": [
        "# تحضير البيانات\n",
        "X = df.drop(columns=['Depression', 'id', 'Profession'])  # إزالة الأعمدة غير المفيدة\n",
        "y = df['Depression']"
      ],
      "metadata": {
        "id": "BYyQdKDx_VYI"
      },
      "execution_count": 4,
      "outputs": []
    },
    {
      "cell_type": "code",
      "source": [
        "# التعامل مع القيم المفقودة بعد التشفير\n",
        "imputer = SimpleImputer(strategy='mean')  # استبدال القيم المفقودة بالمتوسط\n",
        "X = pd.DataFrame(imputer.fit_transform(X), columns=X.columns)"
      ],
      "metadata": {
        "id": "1i6dvswQ_yrR"
      },
      "execution_count": 5,
      "outputs": []
    },
    {
      "cell_type": "code",
      "source": [
        "# 1. L1 Regularization (Lasso) for Feature Selection\n",
        "model = Lasso(alpha=0.1)\n",
        "model.fit(X, y)\n",
        "selected_l1_features = X.columns[model.coef_ != 0].tolist()\n",
        "print(\"\\nL1 Regularization Selected Features:\", selected_l1_features)"
      ],
      "metadata": {
        "colab": {
          "base_uri": "https://localhost:8080/"
        },
        "id": "Dsw7T6n5AJ-d",
        "outputId": "1b4b7b92-5e9f-4a7b-9a23-0bb655229bb5"
      },
      "execution_count": 6,
      "outputs": [
        {
          "output_type": "stream",
          "name": "stdout",
          "text": [
            "\n",
            "L1 Regularization Selected Features: ['Have you ever had suicidal thoughts ?', 'Financial Stress']\n"
          ]
        }
      ]
    },
    {
      "cell_type": "code",
      "source": [
        "# 2. Variance Threshold (Filter Method)\n",
        "selector = VarianceThreshold(threshold=0.2)\n",
        "X_new = selector.fit_transform(X)\n",
        "selected_var_features = X.columns[selector.get_support()].tolist()\n",
        "print(\"\\nVariance Threshold Selected Features:\", selected_var_features)"
      ],
      "metadata": {
        "colab": {
          "base_uri": "https://localhost:8080/"
        },
        "id": "JHYl7qDrAU0b",
        "outputId": "58217207-9bbd-4834-a189-dfafbb944a3d"
      },
      "execution_count": 7,
      "outputs": [
        {
          "output_type": "stream",
          "name": "stdout",
          "text": [
            "\n",
            "Variance Threshold Selected Features: ['Gender', 'Sleep Duration', 'Have you ever had suicidal thoughts ?', 'Financial Stress', 'Family History of Mental Illness', 'Dietary Habits_Moderate', 'Dietary Habits_Unhealthy']\n"
          ]
        }
      ]
    },
    {
      "cell_type": "code",
      "source": [
        "# عرض الميزات المحددة\n",
        "print(\"\\nSelected Features after L1 Regularization:\", selected_l1_features)\n",
        "print(\"\\nSelected Features after Variance Threshold:\", selected_var_features)"
      ],
      "metadata": {
        "colab": {
          "base_uri": "https://localhost:8080/"
        },
        "id": "WQ8ALPhoAXDc",
        "outputId": "6b645337-8a34-47e9-b383-76241c2b2445"
      },
      "execution_count": 8,
      "outputs": [
        {
          "output_type": "stream",
          "name": "stdout",
          "text": [
            "\n",
            "Selected Features after L1 Regularization: ['Have you ever had suicidal thoughts ?', 'Financial Stress']\n",
            "\n",
            "Selected Features after Variance Threshold: ['Gender', 'Sleep Duration', 'Have you ever had suicidal thoughts ?', 'Financial Stress', 'Family History of Mental Illness', 'Dietary Habits_Moderate', 'Dietary Habits_Unhealthy']\n"
          ]
        }
      ]
    },
    {
      "cell_type": "code",
      "source": [
        "# إنشاء نسخة من البيانات تحتوي على الميزات المختارة وعمود الهدف\n",
        "final_df = pd.concat([X[selected_l1_features], y], axis=1)\n",
        "\n",
        "# حفظ البيانات المعدلة في ملف CSV\n",
        "final_df.to_csv('final_selected_data.csv', index=False)\n",
        "\n",
        "print(\"\\nتم حفظ البيانات المعدلة في ملف: final_selected_data.csv ✅\")\n"
      ],
      "metadata": {
        "colab": {
          "base_uri": "https://localhost:8080/"
        },
        "id": "QXyJDGJqZU1L",
        "outputId": "931bc792-985c-47c2-db22-3c8002215471"
      },
      "execution_count": 9,
      "outputs": [
        {
          "output_type": "stream",
          "name": "stdout",
          "text": [
            "\n",
            "تم حفظ البيانات المعدلة في ملف: final_selected_data.csv ✅\n"
          ]
        }
      ]
    }
  ]
}
