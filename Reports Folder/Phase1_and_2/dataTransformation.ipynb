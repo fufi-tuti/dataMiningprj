{
  "nbformat": 4,
  "nbformat_minor": 0,
  "metadata": {
    "colab": {
      "provenance": [],
      "authorship_tag": "ABX9TyP1S3KnQch0ueMlKMWr/QaT",
      "include_colab_link": true
    },
    "kernelspec": {
      "name": "python3",
      "display_name": "Python 3"
    },
    "language_info": {
      "name": "python"
    }
  },
  "cells": [
    {
      "cell_type": "markdown",
      "metadata": {
        "id": "view-in-github",
        "colab_type": "text"
      },
      "source": [
        "<a href=\"https://colab.research.google.com/github/fufi-tuti/dataMiningprj/blob/main/dataTransformation.ipynb\" target=\"_parent\"><img src=\"https://colab.research.google.com/assets/colab-badge.svg\" alt=\"Open In Colab\"/></a>"
      ]
    },
    {
      "cell_type": "code",
      "source": [
        "from google.colab import files\n",
        "uploaded = files.upload()"
      ],
      "metadata": {
        "colab": {
          "base_uri": "https://localhost:8080/",
          "height": 73
        },
        "id": "md2rQRO-CrmS",
        "outputId": "62821052-f610-431c-ba7f-ffe3feab06ac"
      },
      "execution_count": 3,
      "outputs": [
        {
          "output_type": "display_data",
          "data": {
            "text/plain": [
              "<IPython.core.display.HTML object>"
            ],
            "text/html": [
              "\n",
              "     <input type=\"file\" id=\"files-003edd7e-61e8-4ff4-a8c3-d1339913e744\" name=\"files[]\" multiple disabled\n",
              "        style=\"border:none\" />\n",
              "     <output id=\"result-003edd7e-61e8-4ff4-a8c3-d1339913e744\">\n",
              "      Upload widget is only available when the cell has been executed in the\n",
              "      current browser session. Please rerun this cell to enable.\n",
              "      </output>\n",
              "      <script>// Copyright 2017 Google LLC\n",
              "//\n",
              "// Licensed under the Apache License, Version 2.0 (the \"License\");\n",
              "// you may not use this file except in compliance with the License.\n",
              "// You may obtain a copy of the License at\n",
              "//\n",
              "//      http://www.apache.org/licenses/LICENSE-2.0\n",
              "//\n",
              "// Unless required by applicable law or agreed to in writing, software\n",
              "// distributed under the License is distributed on an \"AS IS\" BASIS,\n",
              "// WITHOUT WARRANTIES OR CONDITIONS OF ANY KIND, either express or implied.\n",
              "// See the License for the specific language governing permissions and\n",
              "// limitations under the License.\n",
              "\n",
              "/**\n",
              " * @fileoverview Helpers for google.colab Python module.\n",
              " */\n",
              "(function(scope) {\n",
              "function span(text, styleAttributes = {}) {\n",
              "  const element = document.createElement('span');\n",
              "  element.textContent = text;\n",
              "  for (const key of Object.keys(styleAttributes)) {\n",
              "    element.style[key] = styleAttributes[key];\n",
              "  }\n",
              "  return element;\n",
              "}\n",
              "\n",
              "// Max number of bytes which will be uploaded at a time.\n",
              "const MAX_PAYLOAD_SIZE = 100 * 1024;\n",
              "\n",
              "function _uploadFiles(inputId, outputId) {\n",
              "  const steps = uploadFilesStep(inputId, outputId);\n",
              "  const outputElement = document.getElementById(outputId);\n",
              "  // Cache steps on the outputElement to make it available for the next call\n",
              "  // to uploadFilesContinue from Python.\n",
              "  outputElement.steps = steps;\n",
              "\n",
              "  return _uploadFilesContinue(outputId);\n",
              "}\n",
              "\n",
              "// This is roughly an async generator (not supported in the browser yet),\n",
              "// where there are multiple asynchronous steps and the Python side is going\n",
              "// to poll for completion of each step.\n",
              "// This uses a Promise to block the python side on completion of each step,\n",
              "// then passes the result of the previous step as the input to the next step.\n",
              "function _uploadFilesContinue(outputId) {\n",
              "  const outputElement = document.getElementById(outputId);\n",
              "  const steps = outputElement.steps;\n",
              "\n",
              "  const next = steps.next(outputElement.lastPromiseValue);\n",
              "  return Promise.resolve(next.value.promise).then((value) => {\n",
              "    // Cache the last promise value to make it available to the next\n",
              "    // step of the generator.\n",
              "    outputElement.lastPromiseValue = value;\n",
              "    return next.value.response;\n",
              "  });\n",
              "}\n",
              "\n",
              "/**\n",
              " * Generator function which is called between each async step of the upload\n",
              " * process.\n",
              " * @param {string} inputId Element ID of the input file picker element.\n",
              " * @param {string} outputId Element ID of the output display.\n",
              " * @return {!Iterable<!Object>} Iterable of next steps.\n",
              " */\n",
              "function* uploadFilesStep(inputId, outputId) {\n",
              "  const inputElement = document.getElementById(inputId);\n",
              "  inputElement.disabled = false;\n",
              "\n",
              "  const outputElement = document.getElementById(outputId);\n",
              "  outputElement.innerHTML = '';\n",
              "\n",
              "  const pickedPromise = new Promise((resolve) => {\n",
              "    inputElement.addEventListener('change', (e) => {\n",
              "      resolve(e.target.files);\n",
              "    });\n",
              "  });\n",
              "\n",
              "  const cancel = document.createElement('button');\n",
              "  inputElement.parentElement.appendChild(cancel);\n",
              "  cancel.textContent = 'Cancel upload';\n",
              "  const cancelPromise = new Promise((resolve) => {\n",
              "    cancel.onclick = () => {\n",
              "      resolve(null);\n",
              "    };\n",
              "  });\n",
              "\n",
              "  // Wait for the user to pick the files.\n",
              "  const files = yield {\n",
              "    promise: Promise.race([pickedPromise, cancelPromise]),\n",
              "    response: {\n",
              "      action: 'starting',\n",
              "    }\n",
              "  };\n",
              "\n",
              "  cancel.remove();\n",
              "\n",
              "  // Disable the input element since further picks are not allowed.\n",
              "  inputElement.disabled = true;\n",
              "\n",
              "  if (!files) {\n",
              "    return {\n",
              "      response: {\n",
              "        action: 'complete',\n",
              "      }\n",
              "    };\n",
              "  }\n",
              "\n",
              "  for (const file of files) {\n",
              "    const li = document.createElement('li');\n",
              "    li.append(span(file.name, {fontWeight: 'bold'}));\n",
              "    li.append(span(\n",
              "        `(${file.type || 'n/a'}) - ${file.size} bytes, ` +\n",
              "        `last modified: ${\n",
              "            file.lastModifiedDate ? file.lastModifiedDate.toLocaleDateString() :\n",
              "                                    'n/a'} - `));\n",
              "    const percent = span('0% done');\n",
              "    li.appendChild(percent);\n",
              "\n",
              "    outputElement.appendChild(li);\n",
              "\n",
              "    const fileDataPromise = new Promise((resolve) => {\n",
              "      const reader = new FileReader();\n",
              "      reader.onload = (e) => {\n",
              "        resolve(e.target.result);\n",
              "      };\n",
              "      reader.readAsArrayBuffer(file);\n",
              "    });\n",
              "    // Wait for the data to be ready.\n",
              "    let fileData = yield {\n",
              "      promise: fileDataPromise,\n",
              "      response: {\n",
              "        action: 'continue',\n",
              "      }\n",
              "    };\n",
              "\n",
              "    // Use a chunked sending to avoid message size limits. See b/62115660.\n",
              "    let position = 0;\n",
              "    do {\n",
              "      const length = Math.min(fileData.byteLength - position, MAX_PAYLOAD_SIZE);\n",
              "      const chunk = new Uint8Array(fileData, position, length);\n",
              "      position += length;\n",
              "\n",
              "      const base64 = btoa(String.fromCharCode.apply(null, chunk));\n",
              "      yield {\n",
              "        response: {\n",
              "          action: 'append',\n",
              "          file: file.name,\n",
              "          data: base64,\n",
              "        },\n",
              "      };\n",
              "\n",
              "      let percentDone = fileData.byteLength === 0 ?\n",
              "          100 :\n",
              "          Math.round((position / fileData.byteLength) * 100);\n",
              "      percent.textContent = `${percentDone}% done`;\n",
              "\n",
              "    } while (position < fileData.byteLength);\n",
              "  }\n",
              "\n",
              "  // All done.\n",
              "  yield {\n",
              "    response: {\n",
              "      action: 'complete',\n",
              "    }\n",
              "  };\n",
              "}\n",
              "\n",
              "scope.google = scope.google || {};\n",
              "scope.google.colab = scope.google.colab || {};\n",
              "scope.google.colab._files = {\n",
              "  _uploadFiles,\n",
              "  _uploadFilesContinue,\n",
              "};\n",
              "})(self);\n",
              "</script> "
            ]
          },
          "metadata": {}
        },
        {
          "output_type": "stream",
          "name": "stdout",
          "text": [
            "Saving cleaned_dataset.csv to cleaned_dataset.csv\n"
          ]
        }
      ]
    },
    {
      "cell_type": "code",
      "execution_count": 21,
      "metadata": {
        "colab": {
          "base_uri": "https://localhost:8080/"
        },
        "id": "v-KA6Wvp7vOf",
        "outputId": "212332c6-3711-4ac8-f4e3-320371409525"
      },
      "outputs": [
        {
          "output_type": "stream",
          "name": "stdout",
          "text": [
            "Cleaned Dataset:\n",
            "   id  Gender  Age           City Profession  Academic Pressure  \\\n",
            "0   2    Male   33  Visakhapatnam    Student                  5   \n",
            "1   8  Female   24      Bangalore    Student                  2   \n",
            "2  26    Male   31       Srinagar    Student                  3   \n",
            "3  30  Female   28       Varanasi    Student                  3   \n",
            "4  32  Female   25         Jaipur    Student                  4   \n",
            "\n",
            "   Work Pressure  CGPA  Study Satisfaction  Job Satisfaction  \\\n",
            "0              0  8.97                   2                 0   \n",
            "1              0  5.90                   5                 0   \n",
            "2              0  7.03                   5                 0   \n",
            "3              0  5.59                   2                 0   \n",
            "4              0  8.13                   3                 0   \n",
            "\n",
            "      Sleep Duration Dietary Habits   Degree  \\\n",
            "0          5-6 hours        Healthy  B.Pharm   \n",
            "1          5-6 hours       Moderate      BSc   \n",
            "2  Less than 5 hours        Healthy       BA   \n",
            "3          7-8 hours       Moderate      BCA   \n",
            "4          5-6 hours       Moderate   M.Tech   \n",
            "\n",
            "  Have you ever had suicidal thoughts ?  Work/Study Hours  Financial Stress  \\\n",
            "0                                   Yes                 3               1.0   \n",
            "1                                    No                 3               2.0   \n",
            "2                                    No                 9               1.0   \n",
            "3                                   Yes                 4               5.0   \n",
            "4                                   Yes                 1               1.0   \n",
            "\n",
            "  Family History of Mental Illness  Depression  \n",
            "0                               No           1  \n",
            "1                              Yes           0  \n",
            "2                              Yes           0  \n",
            "3                              Yes           1  \n",
            "4                               No           0  \n"
          ]
        }
      ],
      "source": [
        "import pandas as pd\n",
        "\n",
        "# Load the cleaned dataset from local file\n",
        "file_path = \"cleaned_dataset.csv\"  # Ensure this file is uploaded to Colab\n",
        "df_cleaned = pd.read_csv(file_path)\n",
        "\n",
        "# Display first few rows of the cleaned dataset\n",
        "print(\"Cleaned Dataset:\")\n",
        "print(df_cleaned.head())\n"
      ]
    },
    {
      "cell_type": "code",
      "source": [
        "import pandas as pd\n",
        "from sklearn.preprocessing import MinMaxScaler\n",
        "\n",
        "# ✅ Step 1: Cleaning Column Names\n",
        "df_cleaned.columns = df_cleaned.columns.str.strip()  # Remove spaces around column names\n",
        "\n",
        "# ✅ Step 2: Defining Numerical Features\n",
        "numerical_features = ['Age', 'Academic Pressure', 'Work Pressure', 'CGPA',\n",
        "                      'Study Satisfaction', 'Job Satisfaction', 'Work/Study Hours']\n",
        "\n",
        "\n",
        "# ✅ Step 3: Displaying the Transformed Data\n",
        "print(\"✅ Normalization Complete! Here are the first 5 rows:\")\n",
        "print(df_cleaned.head())\n"
      ],
      "metadata": {
        "colab": {
          "base_uri": "https://localhost:8080/"
        },
        "id": "MGuXau588s3l",
        "outputId": "57c84cb7-693a-42ea-bbf0-deb92c9234dc"
      },
      "execution_count": 22,
      "outputs": [
        {
          "output_type": "stream",
          "name": "stdout",
          "text": [
            "✅ Normalization Complete! Here are the first 5 rows:\n",
            "   id  Gender  Age           City Profession  Academic Pressure  \\\n",
            "0   2    Male   33  Visakhapatnam    Student                  5   \n",
            "1   8  Female   24      Bangalore    Student                  2   \n",
            "2  26    Male   31       Srinagar    Student                  3   \n",
            "3  30  Female   28       Varanasi    Student                  3   \n",
            "4  32  Female   25         Jaipur    Student                  4   \n",
            "\n",
            "   Work Pressure  CGPA  Study Satisfaction  Job Satisfaction  \\\n",
            "0              0  8.97                   2                 0   \n",
            "1              0  5.90                   5                 0   \n",
            "2              0  7.03                   5                 0   \n",
            "3              0  5.59                   2                 0   \n",
            "4              0  8.13                   3                 0   \n",
            "\n",
            "      Sleep Duration Dietary Habits   Degree  \\\n",
            "0          5-6 hours        Healthy  B.Pharm   \n",
            "1          5-6 hours       Moderate      BSc   \n",
            "2  Less than 5 hours        Healthy       BA   \n",
            "3          7-8 hours       Moderate      BCA   \n",
            "4          5-6 hours       Moderate   M.Tech   \n",
            "\n",
            "  Have you ever had suicidal thoughts ?  Work/Study Hours  Financial Stress  \\\n",
            "0                                   Yes                 3               1.0   \n",
            "1                                    No                 3               2.0   \n",
            "2                                    No                 9               1.0   \n",
            "3                                   Yes                 4               5.0   \n",
            "4                                   Yes                 1               1.0   \n",
            "\n",
            "  Family History of Mental Illness  Depression  \n",
            "0                               No           1  \n",
            "1                              Yes           0  \n",
            "2                              Yes           0  \n",
            "3                              Yes           1  \n",
            "4                               No           0  \n"
          ]
        }
      ]
    },
    {
      "cell_type": "code",
      "source": [
        "df_cleaned.columns = df_cleaned.columns.str.strip()  # Remove spaces\n",
        "df_cleaned.columns = df_cleaned.columns.str.replace(\"  \", \" \")  # Fix double spaces\n",
        "print(df_cleaned.columns.tolist())  # Verify again\n"
      ],
      "metadata": {
        "colab": {
          "base_uri": "https://localhost:8080/"
        },
        "id": "dvFEQBW4-169",
        "outputId": "4384571d-fdde-41af-96e0-4fb1b9adec9c"
      },
      "execution_count": 23,
      "outputs": [
        {
          "output_type": "stream",
          "name": "stdout",
          "text": [
            "['id', 'Gender', 'Age', 'City', 'Profession', 'Academic Pressure', 'Work Pressure', 'CGPA', 'Study Satisfaction', 'Job Satisfaction', 'Sleep Duration', 'Dietary Habits', 'Degree', 'Have you ever had suicidal thoughts ?', 'Work/Study Hours', 'Financial Stress', 'Family History of Mental Illness', 'Depression']\n"
          ]
        }
      ]
    },
    {
      "cell_type": "code",
      "source": [
        "# ✅ Select only numerical columns once\n",
        "numerical_df = df_cleaned.select_dtypes(include=['number'])\n",
        "\n",
        "# ✅ Check for skewness\n",
        "skew_values = numerical_df.skew()\n",
        "\n",
        "# ✅ Show skewness values\n",
        "print(\"Skewness of Numerical Columns:\")\n",
        "print(skew_values)\n",
        "\n",
        "# ✅ Optional: Identify which columns need discretization FIRST\n",
        "print(\"\\nRecommended for Discretization (Skew > 1 or Skew < -1):\")\n",
        "discretization_candidates = skew_values[abs(skew_values) > 1]\n",
        "print(discretization_candidates)"
      ],
      "metadata": {
        "colab": {
          "base_uri": "https://localhost:8080/"
        },
        "id": "Y6Pgix2HXqL1",
        "outputId": "df637424-2a15-49ec-cb74-a0e53d0d7763"
      },
      "execution_count": 24,
      "outputs": [
        {
          "output_type": "stream",
          "name": "stdout",
          "text": [
            "Skewness of Numerical Columns:\n",
            "id                   -0.005479\n",
            "Age                   0.077989\n",
            "Academic Pressure    -0.134474\n",
            "Work Pressure         0.000000\n",
            "CGPA                 -0.073405\n",
            "Study Satisfaction    0.011528\n",
            "Job Satisfaction      0.000000\n",
            "Work/Study Hours     -0.455221\n",
            "Financial Stress     -0.129905\n",
            "Depression           -0.348096\n",
            "dtype: float64\n",
            "\n",
            "Recommended for Discretization (Skew > 1 or Skew < -1):\n",
            "Series([], dtype: float64)\n"
          ]
        }
      ]
    },
    {
      "cell_type": "code",
      "source": [
        "import pandas as pd\n",
        "import numpy as np\n",
        "from sklearn.preprocessing import MinMaxScaler, LabelEncoder, OneHotEncoder\n",
        "\n",
        "# ✅ Feature Scaling (Normalization)\n",
        "numerical_features = ['Age', 'Academic Pressure', 'Work Pressure', 'CGPA',\n",
        "                      'Study Satisfaction', 'Job Satisfaction', 'Work/Study Hours']\n",
        "\n",
        "scaler = MinMaxScaler()\n",
        "df_cleaned[numerical_features] = scaler.fit_transform(df_cleaned[numerical_features])\n",
        "\n",
        "# ✅ Encoding Categorical Features\n",
        "binary_features = ['Gender', 'Have you ever had suicidal thoughts ?', 'Financial Stress', 'Family History of Mental Illness', 'Depression']\n",
        "label_encoder = LabelEncoder()\n",
        "for feature in binary_features:\n",
        "    df_cleaned[feature] = label_encoder.fit_transform(df_cleaned[feature])\n",
        "\n",
        "# ✅ Ordinal Encoding for Ordered Categories\n",
        "sleep_duration_mapping = {'Less than 5 hours': 0, '5-6 hours': 1, '7-8 hours': 2, 'More than 8 hours': 3}\n",
        "degree_mapping = {'Class 12': 0, 'B.Sc': 1, 'M.Tech': 2, 'Ph.D': 3}\n",
        "\n",
        "df_cleaned['Sleep Duration'] = df_cleaned['Sleep Duration'].map(sleep_duration_mapping)\n",
        "df_cleaned['Degree'] = df_cleaned['Degree'].map(degree_mapping)\n",
        "\n",
        "# ✅ One-Hot Encoding for Cities and Dietary Habits\n",
        "df_cleaned = pd.get_dummies(df_cleaned, columns=['City', 'Dietary Habits'])\n",
        "\n",
        "# ✅ Save Transformed Dataset\n",
        "df_cleaned.to_csv(\"final_transformed_dataset.csv\", index=False)\n",
        "\n",
        "# ✅ Verify Results\n",
        "print(\"✅ Final Data Processing Complete! Preview:\")\n",
        "print(df_cleaned.head())\n"
      ],
      "metadata": {
        "colab": {
          "base_uri": "https://localhost:8080/"
        },
        "id": "CSwAOwcvHU6E",
        "outputId": "489f437a-5a5e-404c-d292-e0c806f17497"
      },
      "execution_count": 25,
      "outputs": [
        {
          "output_type": "stream",
          "name": "stdout",
          "text": [
            "✅ Final Data Processing Complete! Preview:\n",
            "   id  Gender   Age Profession  Academic Pressure  Work Pressure      CGPA  \\\n",
            "0   2       1  0.60    Student                1.0            0.0  0.792757   \n",
            "1   8       0  0.24    Student                0.4            0.0  0.175050   \n",
            "2  26       1  0.52    Student                0.6            0.0  0.402414   \n",
            "3  30       0  0.40    Student                0.6            0.0  0.112676   \n",
            "4  32       0  0.28    Student                0.8            0.0  0.623742   \n",
            "\n",
            "   Study Satisfaction  Job Satisfaction  Sleep Duration  ...  City_Thane  \\\n",
            "0                 0.4               0.0             1.0  ...       False   \n",
            "1                 1.0               0.0             1.0  ...       False   \n",
            "2                 1.0               0.0             0.0  ...       False   \n",
            "3                 0.4               0.0             2.0  ...       False   \n",
            "4                 0.6               0.0             1.0  ...       False   \n",
            "\n",
            "   City_Vaanya  City_Vadodara  City_Varanasi  City_Vasai-Virar  \\\n",
            "0        False          False          False             False   \n",
            "1        False          False          False             False   \n",
            "2        False          False          False             False   \n",
            "3        False          False           True             False   \n",
            "4        False          False          False             False   \n",
            "\n",
            "   City_Visakhapatnam  Dietary Habits_Healthy  Dietary Habits_Moderate  \\\n",
            "0                True                    True                    False   \n",
            "1               False                   False                     True   \n",
            "2               False                    True                    False   \n",
            "3               False                   False                     True   \n",
            "4               False                   False                     True   \n",
            "\n",
            "   Dietary Habits_Others  Dietary Habits_Unhealthy  \n",
            "0                  False                     False  \n",
            "1                  False                     False  \n",
            "2                  False                     False  \n",
            "3                  False                     False  \n",
            "4                  False                     False  \n",
            "\n",
            "[5 rows x 72 columns]\n"
          ]
        }
      ]
    },
    {
      "cell_type": "code",
      "source": [
        "df_cleaned.to_csv(\"Processed_Student_Depression_Dataset.csv\", index=False)\n",
        "print(\"✅ Processed dataset saved successfully!\")\n"
      ],
      "metadata": {
        "colab": {
          "base_uri": "https://localhost:8080/"
        },
        "id": "Yb39RLrcAML2",
        "outputId": "7e8cda63-244b-4577-9a2b-e9ae59ec4675"
      },
      "execution_count": 26,
      "outputs": [
        {
          "output_type": "stream",
          "name": "stdout",
          "text": [
            "✅ Processed dataset saved successfully!\n"
          ]
        }
      ]
    }
  ]
}
