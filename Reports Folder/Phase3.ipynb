for test_size in test_sizes:
    train_size = int((1 - test_size) * 100)
    print("="*60)
    print(f"Train/Test Split: {train_size}/{int(test_size*100)}")

    # Split data
    X_train, X_test, y_train, y_test = train_test_split(
        X, y, test_size=test_size, random_state=42)

    # Create Decision Tree classifier using Gini
    model = DecisionTreeClassifier(criterion="gini", random_state=42)
    model.fit(X_train, y_train)

    # Predicting
    y_pred = model.predict(X_test)

    # Evaluation
    accuracy = accuracy_score(y_test, y_pred)
    conf_matrix = confusion_matrix(y_test, y_pred)
    depth = model.get_depth()
    leaves = model.get_n_leaves()

    print("Accuracy:", accuracy)
    print("Confusion Matrix:\n", conf_matrix)
    print("Tree Depth:", depth)
    print("Number of Leaves:", leaves)

    # Save results
    results.append({
        "Split": f"{train_size}/{int(test_size*100)}",
        "Accuracy": round(accuracy, 4),
        "Depth": depth,
        "#Leaves": leaves,
        "Confusion Matrix": conf_matrix.tolist()
    })

    # 7. Visualizing Decision Tree
    plt.figure(figsize=(15, 10))
    tree.plot_tree(model, filled=True, feature_names=X.columns,
                   class_names=["No Depression", "Depression"],
                   rounded=True)
    plt.title(f"Decision Tree (Gini) - Split {train_size}/{int(test_size*100)}")
    plt.show()

    # Visualizing Confusion Matrix
    plt.figure(figsize=(6, 4))
    sns.heatmap(conf_matrix, annot=True, fmt="d", cmap="Blues",
                xticklabels=["No Depression", "Depression"],
                yticklabels=["No Depression", "Depression"])
    plt.xlabel("Predicted")
    plt.ylabel("Actual")
    plt.title(f"Confusion Matrix - Split {train_size}/{int(test_size*100)}")

